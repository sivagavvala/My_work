{
 "cells": [
  {
   "cell_type": "code",
   "execution_count": 1,
   "metadata": {},
   "outputs": [],
   "source": [
    "import numpy as np\n",
    "import seaborn as sns\n",
    "import scipy.stats as stats\n",
    "import pandas as pd\n",
    "import os\n",
    "import sklearn as sk\n",
    "from pandas_profiling import ProfileReport\n",
    "import pickle\n",
    "from sklearn.linear_model import LinearRegression\n",
    "import logging as lg"
   ]
  },
  {
   "cell_type": "code",
   "execution_count": 2,
   "metadata": {},
   "outputs": [
    {
     "data": {
      "text/plain": [
       "'C:\\\\Users\\\\sivag\\\\Downloads'"
      ]
     },
     "execution_count": 2,
     "metadata": {},
     "output_type": "execute_result"
    }
   ],
   "source": [
    "pwd"
   ]
  },
  {
   "cell_type": "code",
   "execution_count": 11,
   "metadata": {},
   "outputs": [],
   "source": [
    "os.chdir('Downloads\\\\')"
   ]
  },
  {
   "cell_type": "code",
   "execution_count": 3,
   "metadata": {},
   "outputs": [],
   "source": [
    "lg.basicConfig(filename='linear.log',level=lg.DEBUG, format=' %(asctime)s -%(levelname)s -  %(message)s')"
   ]
  },
  {
   "cell_type": "code",
   "execution_count": 4,
   "metadata": {},
   "outputs": [],
   "source": [
    "def data_preprocess():\n",
    "    try:\n",
    "        \n",
    "        df = load_dataset()\n",
    "        lg.info(\"Starting the data pre processing\")\n",
    "    \n",
    "        #creating profile\n",
    "        #lg.info(\"Starting the data profile\")\n",
    "        #profile = ProfileReport(df, explorative=True)\n",
    "        #profile.to_file(\"AI4I_2020.html\")\n",
    "        #lg.info(\"data profile creation completed with name AI4I_2020.html and saved in \",os.getcwd())\n",
    "    \n",
    "        \n",
    "        # Dropping Torque as Rotational is related (Multi collinear) to it within feature\n",
    "        df.drop('Torque [Nm]', axis =1, inplace=True)\n",
    "        \n",
    "        # Dropping UDI as it is primary key\n",
    "        df.drop('UDI', axis =1, inplace=True)\n",
    "        \n",
    "        #As Type column came from Product ID (first letter), we can drop Product ID\n",
    "        df.drop('Product ID', axis =1, inplace=True)\n",
    "        \n",
    "        #Converting ordinal catergory (L, M, H) in Type to integers\n",
    "        df['Type'] = df['Type'].str.replace('L','1')\n",
    "        df['Type'] = df['Type'].str.replace('M','2')\n",
    "        df['Type'] = df['Type'].str.replace('H','3')\n",
    "        \n",
    "        #Changing column names for better appearance\n",
    "        df.columns = ['Type','Air_temp','Process_temp','Rotaional_speed','Tool_wear','Machine_failure','TWF','HDF','PWF','OSF','RNF']\n",
    "        \n",
    "        #Replacing zeros values of df['Tool_wear'] to median as it is not normally distributed.\n",
    "        df['Tool_wear'].median()\n",
    "        df['Tool_wear']=df['Tool_wear'].replace({0:'108'})\n",
    "        \n",
    "        #Converting object columns to int\n",
    "        df['Tool_wear'] = df['Tool_wear'].astype(int)\n",
    "        df['Type'] = df['Type'].astype(int)\n",
    "    \n",
    "        return df\n",
    "    \n",
    "    except Exception as e:\n",
    "        lg.exception(str(e))\n",
    "        lg.info(\"pre process step failed\")\n",
    "        print(str(e))\n",
    "        \n",
    "    else:\n",
    "        lg.info(\"pre process step completed successfully\")\n",
    "        \n",
    "    "
   ]
  },
  {
   "cell_type": "code",
   "execution_count": 15,
   "metadata": {},
   "outputs": [],
   "source": [
    "def model_predict(linear):\n",
    "    lg.info(\"Predicting Air temp from user entry\")\n",
    "    ##ip=input('enter Type(L=1,M=2,H=3),Process temperature [K],Rotational speed [rpm],Tool wear [min],Machine failure,TWF,HDF,PWF,OSF,RNF')\n",
    "    #lg.info(\"user entered input is \",ip)\n",
    "    try:\n",
    "        \n",
    "        lg.info(\"predicting the air temp...\")\n",
    "        print(\"predicted air temp is...\", linear.predict([[1,308.5,16000,5,0,0,0,0,0,0]]))\n",
    "        lg.info(\"sample entry predicted\")\n",
    "    except Exception as e:\n",
    "        lg.exception(str(e))\n",
    "        lg.info(\"predicting step failed\")\n",
    "        print(str(e))"
   ]
  },
  {
   "cell_type": "code",
   "execution_count": 6,
   "metadata": {},
   "outputs": [],
   "source": [
    "def load_dataset():\n",
    "    lg.info(\"Starting the dataset loading\")\n",
    "    try:\n",
    "        df =pd.read_csv('ai4i2020.csv')\n",
    "        lg.info(\"dataset loaded successfully\")\n",
    "        return df\n",
    "    except Exception as e:\n",
    "        lg.exception(str(e))\n",
    "        lg.info(\"dataset laod not success\")\n",
    "        print(str(e))\n",
    "    else:\n",
    "        lg.info(\"dataset loaded successfully\")\n",
    "    "
   ]
  },
  {
   "cell_type": "code",
   "execution_count": 7,
   "metadata": {},
   "outputs": [],
   "source": [
    "def save_model(linear):\n",
    "    \n",
    "    try:\n",
    "        #Saving the model\n",
    "        lg.info('saving the linear reg model')\n",
    "        file = 'linear_reg_classwork.sav'\n",
    "        pickle.dump(linear,open(file,'wb'))\n",
    "        \n",
    "    except Exception as e:\n",
    "        lg.info('model couldnot be saved')\n",
    "        lg.exception(str(e))\n",
    "        print(str(e))\n",
    "        \n",
    "    else:\n",
    "        lg.info('model saved')\n"
   ]
  },
  {
   "cell_type": "code",
   "execution_count": 8,
   "metadata": {},
   "outputs": [],
   "source": [
    "def get_param(linear):\n",
    "    lg.info('printing params of linear reg model')\n",
    "    print(\"Intercept of our model is \",linear.intercept_)\n",
    "    print(\"Coefficients of model are\",linear.coef_)"
   ]
  },
  {
   "cell_type": "code",
   "execution_count": 16,
   "metadata": {},
   "outputs": [
    {
     "name": "stdout",
     "output_type": "stream",
     "text": [
      "predicted air temp is... [300.7675564]\n",
      "Intercept of our model is  -64.13692389475563\n",
      "Coefficients of model are [-1.06797859e-02  1.17370880e+00  1.76594113e-04  9.78794212e-05\n",
      " -9.08803660e-02  2.02252405e-01  1.78005074e+00  1.47582884e-01\n",
      " -4.31951779e-02 -5.67264774e-02]\n"
     ]
    }
   ],
   "source": [
    "class linear_reg:\n",
    "    def __int__(self, x, y):\n",
    "        self.x=x\n",
    "        self.y=y\n",
    "    def __str__(self):\n",
    "        print('class to perform Linear Regression with x and y')\n",
    "        \n",
    "    try:\n",
    "        df = data_preprocess()\n",
    "        \n",
    "        #Creating dependent and independent variables\n",
    "        \n",
    "        x=df[['Type','Process_temp','Rotaional_speed','Tool_wear','Machine_failure','TWF','HDF','PWF','OSF','RNF']]\n",
    "        #x = df.drop(\"Air_temp\")\n",
    "        y=df['Air_temp']\n",
    "        \n",
    "        \n",
    "        \n",
    "    \n",
    "        ##Creating linear regression object\n",
    "        linear = LinearRegression()\n",
    "        lg.info(\"Model Object created successfully\")\n",
    "        \n",
    "        # Fitting linear reg obj with our data set\n",
    "        linear.fit(x,y)\n",
    "        lg.info(\"Model fit done successfully\")\n",
    "        \n",
    "        # Predicting Air_temp with new entry from our fitted model\n",
    "        lg.info(\"Predicting sample entry\")\n",
    "        model_predict(linear)\n",
    "        lg.info(\"sample entry predicted\")\n",
    "        \n",
    "        #print the coeffiecients\n",
    "        get_param(linear)\n",
    "        \n",
    "        #Save the model\n",
    "        save_model(linear)\n",
    "        \n",
    "        \n",
    "    except Exception as e:\n",
    "        lg.info('could not create linear object model')\n",
    "        lg.exception(str(e))\n",
    "        print(str(e))\n",
    "        \n",
    "    else:\n",
    "        lg.info(\"linear regression model created\")\n",
    "    "
   ]
  },
  {
   "cell_type": "code",
   "execution_count": null,
   "metadata": {},
   "outputs": [],
   "source": []
  },
  {
   "cell_type": "code",
   "execution_count": null,
   "metadata": {},
   "outputs": [],
   "source": []
  }
 ],
 "metadata": {
  "kernelspec": {
   "display_name": "Python 3",
   "language": "python",
   "name": "python3"
  },
  "language_info": {
   "codemirror_mode": {
    "name": "ipython",
    "version": 3
   },
   "file_extension": ".py",
   "mimetype": "text/x-python",
   "name": "python",
   "nbconvert_exporter": "python",
   "pygments_lexer": "ipython3",
   "version": "3.8.8"
  }
 },
 "nbformat": 4,
 "nbformat_minor": 4
}
